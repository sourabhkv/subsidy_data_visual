{
 "cells": [
  {
   "cell_type": "code",
   "execution_count": 63,
   "metadata": {},
   "outputs": [
    {
     "name": "stdout",
     "output_type": "stream",
     "text": [
      "<class 'pandas.core.frame.DataFrame'>\n",
      "RangeIndex: 31978 entries, 0 to 31977\n",
      "Data columns (total 13 columns):\n",
      " #   Column         Non-Null Count  Dtype \n",
      "---  ------         --------------  ----- \n",
      " 0   age            31978 non-null  int64 \n",
      " 1   JobType        31978 non-null  object\n",
      " 2   EdType         31978 non-null  object\n",
      " 3   maritalstatus  31978 non-null  object\n",
      " 4   occupation     31978 non-null  object\n",
      " 5   relationship   31978 non-null  object\n",
      " 6   race           31978 non-null  object\n",
      " 7   gender         31978 non-null  object\n",
      " 8   capitalgain    31978 non-null  int64 \n",
      " 9   capitalloss    31978 non-null  int64 \n",
      " 10  hoursperweek   31978 non-null  int64 \n",
      " 11  nativecountry  31978 non-null  object\n",
      " 12  SalStat        31978 non-null  object\n",
      "dtypes: int64(4), object(9)\n",
      "memory usage: 2.1+ MB\n",
      "None\n"
     ]
    }
   ],
   "source": [
    "import pandas as pd\n",
    "import numpy as np\n",
    "import seaborn as sns\n",
    "from sklearn.model_selection import train_test_split\n",
    "from sklearn.linear_model import LogisticRegression\n",
    "from sklearn.metrics import accuracy_score , confusion_matrix\n",
    "\n",
    "data_income = pd.read_csv('income.csv')\n",
    "data = data_income.copy()\n",
    "\n",
    "print(data.info())"
   ]
  },
  {
   "cell_type": "code",
   "execution_count": 64,
   "metadata": {},
   "outputs": [
    {
     "name": "stdout",
     "output_type": "stream",
     "text": [
      "age              0\n",
      "JobType          0\n",
      "EdType           0\n",
      "maritalstatus    0\n",
      "occupation       0\n",
      "relationship     0\n",
      "race             0\n",
      "gender           0\n",
      "capitalgain      0\n",
      "capitalloss      0\n",
      "hoursperweek     0\n",
      "nativecountry    0\n",
      "SalStat          0\n",
      "dtype: int64\n"
     ]
    }
   ],
   "source": [
    "print(data.isnull().sum())"
   ]
  },
  {
   "cell_type": "code",
   "execution_count": 65,
   "metadata": {},
   "outputs": [
    {
     "name": "stdout",
     "output_type": "stream",
     "text": [
      "                age   capitalgain   capitalloss  hoursperweek\n",
      "count  31978.000000  31978.000000  31978.000000  31978.000000\n",
      "mean      38.579023   1064.360623     86.739352     40.417850\n",
      "std       13.662085   7298.596271    401.594301     12.345285\n",
      "min       17.000000      0.000000      0.000000      1.000000\n",
      "25%       28.000000      0.000000      0.000000     40.000000\n",
      "50%       37.000000      0.000000      0.000000     40.000000\n",
      "75%       48.000000      0.000000      0.000000     45.000000\n",
      "max       90.000000  99999.000000   4356.000000     99.000000\n"
     ]
    }
   ],
   "source": [
    "print(data.describe())"
   ]
  },
  {
   "cell_type": "code",
   "execution_count": 66,
   "metadata": {},
   "outputs": [
    {
     "name": "stdout",
     "output_type": "stream",
     "text": [
      "         JobType    EdType        maritalstatus       occupation relationship  \\\n",
      "count      31978     31978                31978            31978        31978   \n",
      "unique         9        16                    7               15            6   \n",
      "top      Private   HS-grad   Married-civ-spouse   Prof-specialty      Husband   \n",
      "freq       22286     10368                14692             4038        12947   \n",
      "\n",
      "          race gender   nativecountry                        SalStat  \n",
      "count    31978  31978           31978                          31978  \n",
      "unique       5      2              41                              2  \n",
      "top      White   Male   United-States   less than or equal to 50,000  \n",
      "freq     27430  21370           29170                          24283  \n"
     ]
    }
   ],
   "source": [
    "print(data.describe(include='O'))"
   ]
  },
  {
   "cell_type": "code",
   "execution_count": 67,
   "metadata": {},
   "outputs": [
    {
     "name": "stdout",
     "output_type": "stream",
     "text": [
      " Private             22286\n",
      " Self-emp-not-inc     2499\n",
      " Local-gov            2067\n",
      " ?                    1809\n",
      " State-gov            1279\n",
      " Self-emp-inc         1074\n",
      " Federal-gov           943\n",
      " Without-pay            14\n",
      " Never-worked            7\n",
      "Name: JobType, dtype: int64\n",
      "\n",
      "  Prof-specialty       4038\n",
      " Craft-repair         4030\n",
      " Exec-managerial      3992\n",
      " Adm-clerical         3721\n",
      " Sales                3584\n",
      " Other-service        3212\n",
      " Machine-op-inspct    1966\n",
      " ?                    1816\n",
      " Transport-moving     1572\n",
      " Handlers-cleaners    1350\n",
      " Farming-fishing       989\n",
      " Tech-support          912\n",
      " Protective-serv       644\n",
      " Priv-house-serv       143\n",
      " Armed-Forces            9\n",
      "Name: occupation, dtype: int64\n"
     ]
    }
   ],
   "source": [
    "print(data['JobType'].value_counts())\n",
    "print(\"\\n\",data['occupation'].value_counts())"
   ]
  },
  {
   "cell_type": "code",
   "execution_count": 68,
   "metadata": {},
   "outputs": [
    {
     "name": "stdout",
     "output_type": "stream",
     "text": [
      "[' ?' ' Federal-gov' ' Local-gov' ' Never-worked' ' Private'\n",
      " ' Self-emp-inc' ' Self-emp-not-inc' ' State-gov' ' Without-pay'] 9\n"
     ]
    }
   ],
   "source": [
    "unique_ = np.unique(data['JobType'])\n",
    "print(unique_,len(unique_))"
   ]
  },
  {
   "cell_type": "code",
   "execution_count": 69,
   "metadata": {},
   "outputs": [
    {
     "name": "stdout",
     "output_type": "stream",
     "text": [
      "age                 0\n",
      "JobType          1809\n",
      "EdType              0\n",
      "maritalstatus       0\n",
      "occupation       1816\n",
      "relationship        0\n",
      "race                0\n",
      "gender              0\n",
      "capitalgain         0\n",
      "capitalloss         0\n",
      "hoursperweek        0\n",
      "nativecountry       0\n",
      "SalStat             0\n",
      "dtype: int64\n",
      "{nan, ' State-gov', ' Federal-gov', ' Self-emp-inc', ' Never-worked', ' Private', ' Local-gov', ' Self-emp-not-inc', ' Without-pay'}\n"
     ]
    }
   ],
   "source": [
    "data2_ = pd.read_csv(\"income.csv\",na_values=[\" ?\"])\n",
    "print(data2_.isnull().sum())\n",
    "print(set(data2_['JobType']))"
   ]
  },
  {
   "cell_type": "code",
   "execution_count": 70,
   "metadata": {},
   "outputs": [
    {
     "name": "stdout",
     "output_type": "stream",
     "text": [
      "age              0\n",
      "JobType          0\n",
      "EdType           0\n",
      "maritalstatus    0\n",
      "occupation       0\n",
      "relationship     0\n",
      "race             0\n",
      "gender           0\n",
      "capitalgain      0\n",
      "capitalloss      0\n",
      "hoursperweek     0\n",
      "nativecountry    0\n",
      "SalStat          0\n",
      "dtype: int64\n",
      "[' ?' ' Federal-gov' ' Local-gov' ' Never-worked' ' Private'\n",
      " ' Self-emp-inc' ' Self-emp-not-inc' ' State-gov' ' Without-pay']\n"
     ]
    }
   ],
   "source": [
    "missing = data[data.isnull().any(axis=1)]\n",
    "data2 = data.dropna(axis=0)\n",
    "print(data2.isnull().sum())\n",
    "print(np.unique(data2['JobType']))"
   ]
  },
  {
   "cell_type": "code",
   "execution_count": 71,
   "metadata": {},
   "outputs": [
    {
     "name": "stdout",
     "output_type": "stream",
     "text": [
      "                   age  capitalgain  capitalloss  hoursperweek\n",
      "age           1.000000     0.077490     0.057282      0.068299\n",
      "capitalgain   0.077490     1.000000    -0.031499      0.079112\n",
      "capitalloss   0.057282    -0.031499     1.000000      0.053106\n",
      "hoursperweek  0.068299     0.079112     0.053106      1.000000\n"
     ]
    },
    {
     "name": "stderr",
     "output_type": "stream",
     "text": [
      "C:\\Users\\soura\\AppData\\Local\\Temp\\ipykernel_16704\\3987542488.py:1: FutureWarning: The default value of numeric_only in DataFrame.corr is deprecated. In a future version, it will default to False. Select only valid columns or specify the value of numeric_only to silence this warning.\n",
      "  correlation = data2.corr()\n"
     ]
    }
   ],
   "source": [
    "correlation = data2.corr()\n",
    "print(correlation)"
   ]
  },
  {
   "cell_type": "code",
   "execution_count": 72,
   "metadata": {},
   "outputs": [
    {
     "name": "stdout",
     "output_type": "stream",
     "text": [
      "Index(['age', 'JobType', 'EdType', 'maritalstatus', 'occupation',\n",
      "       'relationship', 'race', 'gender', 'capitalgain', 'capitalloss',\n",
      "       'hoursperweek', 'nativecountry', 'SalStat'],\n",
      "      dtype='object')\n"
     ]
    }
   ],
   "source": [
    "print(data2.columns)"
   ]
  },
  {
   "cell_type": "code",
   "execution_count": 73,
   "metadata": {},
   "outputs": [
    {
     "name": "stdout",
     "output_type": "stream",
     "text": [
      "col_0       count\n",
      "gender           \n",
      " Female  0.331728\n",
      " Male    0.668272\n"
     ]
    }
   ],
   "source": [
    "gender = pd.crosstab(index = data2['gender'],columns ='count',normalize=True)\n",
    "print(gender)"
   ]
  },
  {
   "cell_type": "code",
   "execution_count": 74,
   "metadata": {},
   "outputs": [
    {
     "name": "stdout",
     "output_type": "stream",
     "text": [
      "SalStat   greater than 50,000   less than or equal to 50,000\n",
      "gender                                                      \n",
      " Female              0.109540                       0.890460\n",
      " Male                0.305709                       0.694291\n",
      "All                  0.240634                       0.759366\n"
     ]
    }
   ],
   "source": [
    "sal_status = pd.crosstab(index =data2['gender'],columns = data2['SalStat'],normalize=\"index\",margins=True)\n",
    "print(sal_status)"
   ]
  },
  {
   "cell_type": "code",
   "execution_count": 75,
   "metadata": {},
   "outputs": [
    {
     "name": "stdout",
     "output_type": "stream",
     "text": [
      "relationship   Husband   Not-in-family   Other-relative   Own-child  \\\n",
      "gender                                                                \n",
      " Female       0.000094        0.361048         0.039781    0.208710   \n",
      " Male         0.605803        0.202433         0.024801    0.130604   \n",
      "\n",
      "relationship   Unmarried      Wife  \n",
      "gender                              \n",
      " Female         0.245852  0.144514  \n",
      " Male           0.036313  0.000047  \n"
     ]
    }
   ],
   "source": [
    "rel_st = pd.crosstab(index = data2['gender'],columns = data2['relationship'],normalize=\"index\")\n",
    "print(rel_st)"
   ]
  },
  {
   "cell_type": "code",
   "execution_count": 76,
   "metadata": {},
   "outputs": [
    {
     "name": "stdout",
     "output_type": "stream",
     "text": [
      "race      Amer-Indian-Eskimo   Asian-Pac-Islander     Black     Other  \\\n",
      "gender                                                                  \n",
      " Female             0.011218             0.030543  0.143571  0.009615   \n",
      " Male               0.008985             0.029574  0.070426  0.007066   \n",
      "All                 0.009725             0.029896  0.094690  0.007912   \n",
      "\n",
      "race        White  \n",
      "gender             \n",
      " Female  0.805053  \n",
      " Male    0.883949  \n",
      "All      0.857777  \n"
     ]
    }
   ],
   "source": [
    "race_st = pd.crosstab(index= data2['gender'],columns = data['race'],normalize=\"index\",margins=True)\n",
    "print(race_st)"
   ]
  },
  {
   "cell_type": "code",
   "execution_count": 77,
   "metadata": {},
   "outputs": [
    {
     "name": "stdout",
     "output_type": "stream",
     "text": [
      "JobType         ?   Federal-gov   Local-gov   Never-worked   Private  \\\n",
      "gender                                                                 \n",
      " Female  0.077677      0.029129    0.077677       0.000189  0.720400   \n",
      " Male    0.046093      0.029668    0.058166       0.000234  0.685260   \n",
      "All      0.056570      0.029489    0.064638       0.000219  0.696917   \n",
      "\n",
      "JobType   Self-emp-inc   Self-emp-not-inc   State-gov   Without-pay  \n",
      "gender                                                               \n",
      " Female       0.011878           0.036953    0.045626      0.000471  \n",
      " Male         0.044361           0.098596    0.037202      0.000421  \n",
      "All           0.033586           0.078147    0.039996      0.000438  \n"
     ]
    }
   ],
   "source": [
    "job_st = pd.crosstab(index = data2['gender'],columns = data2['JobType'],normalize=\"index\",margins = True)\n",
    "print(job_st)"
   ]
  },
  {
   "cell_type": "code",
   "execution_count": 78,
   "metadata": {},
   "outputs": [
    {
     "data": {
      "text/plain": [
       "<seaborn.axisgrid.FacetGrid at 0x16b3be0>"
      ]
     },
     "execution_count": 78,
     "metadata": {},
     "output_type": "execute_result"
    },
    {
     "data": {
      "image/png": "[encoded data removed]",
      "text/plain": [
       "<Figure size 500x500 with 1 Axes>"
      ]
     },
     "metadata": {},
     "output_type": "display_data"
    }
   ],
   "source": [
    "sns.displot(data['age'],bins=10,kde=False)"
   ]
  },
  {
   "cell_type": "code",
   "execution_count": 79,
   "metadata": {},
   "outputs": [
    {
     "data": {
      "text/plain": [
       "<seaborn.axisgrid.FacetGrid at 0x2adeeef8>"
      ]
     },
     "execution_count": 79,
     "metadata": {},
     "output_type": "execute_result"
    },
    {
     "data": {
      "image/png": "[encoded data removed]",
      "text/plain": [
       "<Figure size 500x500 with 1 Axes>"
      ]
     },
     "metadata": {},
     "output_type": "display_data"
    }
   ],
   "source": [
    "sns.displot(data['SalStat'],bins=10,kde=False)"
   ]
  },
  {
   "cell_type": "code",
   "execution_count": 80,
   "metadata": {},
   "outputs": [
    {
     "data": {
      "text/plain": [
       "<seaborn.axisgrid.FacetGrid at 0x3b8dec8>"
      ]
     },
     "execution_count": 80,
     "metadata": {},
     "output_type": "execute_result"
    },
    {
     "data": {
      "image/png": "[encoded data removed]",
      "text/plain": [
       "<Figure size 500x500 with 1 Axes>"
      ]
     },
     "metadata": {},
     "output_type": "display_data"
    }
   ],
   "source": [
    "sns.displot(data['gender'],bins=10,kde=False)"
   ]
  },
  {
   "cell_type": "code",
   "execution_count": 81,
   "metadata": {},
   "outputs": [
    {
     "data": {
      "text/plain": [
       "SalStat\n",
       " greater than 50,000             44.0\n",
       " less than or equal to 50,000    34.0\n",
       "Name: age, dtype: float64"
      ]
     },
     "execution_count": 81,
     "metadata": {},
     "output_type": "execute_result"
    },
    {
     "data": {
      "image/png": "[encoded data removed]",
      "text/plain": [
       "<Figure size 640x480 with 1 Axes>"
      ]
     },
     "metadata": {},
     "output_type": "display_data"
    }
   ],
   "source": [
    "sns.boxplot(x='SalStat',y='age',data=data2)\n",
    "data2.groupby('SalStat')['age'].median()"
   ]
  },
  {
   "cell_type": "code",
   "execution_count": 82,
   "metadata": {},
   "outputs": [
    {
     "name": "stdout",
     "output_type": "stream",
     "text": [
      "SalStat             greater than 50,000   less than or equal to 50,000\n",
      "JobType                                                               \n",
      " ?                             0.103372                       0.896628\n",
      " Federal-gov                   0.387063                       0.612937\n",
      " Local-gov                     0.294630                       0.705370\n",
      " Never-worked                  0.000000                       1.000000\n",
      " Private                       0.218792                       0.781208\n",
      " Self-emp-inc                  0.558659                       0.441341\n",
      " Self-emp-not-inc              0.285714                       0.714286\n",
      " State-gov                     0.268960                       0.731040\n",
      " Without-pay                   0.000000                       1.000000\n",
      "All                            0.240634                       0.759366\n"
     ]
    }
   ],
   "source": [
    "sal_st = pd.crosstab(index =data2['JobType'],columns = data2['SalStat'],margins= True , normalize= \"index\")\n",
    "print(sal_st)"
   ]
  },
  {
   "cell_type": "code",
   "execution_count": 83,
   "metadata": {},
   "outputs": [
    {
     "name": "stdout",
     "output_type": "stream",
     "text": [
      "SalStat         greater than 50,000   less than or equal to 50,000\n",
      "EdType                                                            \n",
      " 10th                      0.066232                       0.933768\n",
      " 11th                      0.050557                       0.949443\n",
      " 12th                      0.074341                       0.925659\n",
      " 1st-4th                   0.036810                       0.963190\n",
      " 5th-6th                   0.044025                       0.955975\n",
      " 7th-8th                   0.059011                       0.940989\n",
      " 9th                       0.051383                       0.948617\n",
      " Assoc-acdm                0.248341                       0.751659\n",
      " Assoc-voc                 0.261347                       0.738653\n",
      " Bachelors                 0.416315                       0.583685\n",
      " Doctorate                 0.746154                       0.253846\n",
      " HS-grad                   0.160301                       0.839699\n",
      " Masters                   0.559140                       0.440860\n",
      " Preschool                 0.000000                       1.000000\n",
      " Prof-school               0.740608                       0.259392\n",
      " Some-college              0.190622                       0.809378\n"
     ]
    }
   ],
   "source": [
    "ed_st = pd.crosstab(index =data2['EdType'], columns = data2['SalStat'], normalize=\"index\")\n",
    "print(ed_st)"
   ]
  },
  {
   "cell_type": "code",
   "execution_count": 84,
   "metadata": {},
   "outputs": [
    {
     "data": {
      "text/plain": [
       "SalStat\n",
       " greater than 50,000             44.0\n",
       " less than or equal to 50,000    34.0\n",
       "Name: age, dtype: float64"
      ]
     },
     "execution_count": 84,
     "metadata": {},
     "output_type": "execute_result"
    },
    {
     "data": {
      "image/png": "[encoded data removed]",
      "text/plain": [
       "<Figure size 640x480 with 1 Axes>"
      ]
     },
     "metadata": {},
     "output_type": "display_data"
    }
   ],
   "source": [
    "sns.boxplot(y='age',x='SalStat',data=data2)\n",
    "data2.groupby('SalStat')['age'].median()"
   ]
  },
  {
   "cell_type": "code",
   "execution_count": 85,
   "metadata": {},
   "outputs": [
    {
     "name": "stdout",
     "output_type": "stream",
     "text": [
      "SalStat              greater than 50,000   less than or equal to 50,000\n",
      "occupation                                                             \n",
      " ?                              0.102974                       0.897026\n",
      " Adm-clerical                   0.133835                       0.866165\n",
      " Armed-Forces                   0.111111                       0.888889\n",
      " Craft-repair                   0.225310                       0.774690\n",
      " Exec-managerial                0.485220                       0.514780\n",
      " Farming-fishing                0.116279                       0.883721\n",
      " Handlers-cleaners              0.061481                       0.938519\n",
      " Machine-op-inspct              0.124619                       0.875381\n",
      " Other-service                  0.041096                       0.958904\n",
      " Priv-house-serv                0.006993                       0.993007\n",
      " Prof-specialty                 0.448489                       0.551511\n",
      " Protective-serv                0.326087                       0.673913\n",
      " Sales                          0.270647                       0.729353\n",
      " Tech-support                   0.304825                       0.695175\n",
      " Transport-moving               0.202926                       0.797074\n"
     ]
    }
   ],
   "source": [
    "Occ_st = pd.crosstab(index = data2['occupation'],columns = data2['SalStat'],normalize=\"index\")\n",
    "print(Occ_st)"
   ]
  },
  {
   "cell_type": "code",
   "execution_count": 86,
   "metadata": {},
   "outputs": [
    {
     "name": "stdout",
     "output_type": "stream",
     "text": [
      "SalStat        greater than 50,000   less than or equal to 50,000\n",
      "hoursperweek                                                     \n",
      "1                         0.111111                       0.888889\n",
      "2                         0.250000                       0.750000\n",
      "3                         0.025641                       0.974359\n",
      "4                         0.056604                       0.943396\n",
      "5                         0.120690                       0.879310\n",
      "...                            ...                            ...\n",
      "95                        0.500000                       0.500000\n",
      "96                        0.200000                       0.800000\n",
      "97                        0.500000                       0.500000\n",
      "98                        0.272727                       0.727273\n",
      "99                        0.301205                       0.698795\n",
      "\n",
      "[94 rows x 2 columns]\n"
     ]
    }
   ],
   "source": [
    "#hours vs sal\n",
    "hr_st = pd.crosstab(index = data2['hoursperweek'],columns = data2['SalStat'],normalize=\"index\")\n",
    "print(hr_st)"
   ]
  },
  {
   "attachments": {},
   "cell_type": "markdown",
   "metadata": {},
   "source": [
    "part2"
   ]
  },
  {
   "cell_type": "code",
   "execution_count": 87,
   "metadata": {},
   "outputs": [
    {
     "name": "stdout",
     "output_type": "stream",
     "text": [
      "0        0\n",
      "1        0\n",
      "2        1\n",
      "3        0\n",
      "4        0\n",
      "        ..\n",
      "31973    0\n",
      "31974    0\n",
      "31975    0\n",
      "31976    0\n",
      "31977    0\n",
      "Name: SalStat, Length: 31978, dtype: int64\n",
      "['age', 'capitalgain', 'capitalloss', 'hoursperweek', 'SalStat', 'JobType_ Federal-gov', 'JobType_ Local-gov', 'JobType_ Never-worked', 'JobType_ Private', 'JobType_ Self-emp-inc', 'JobType_ Self-emp-not-inc', 'JobType_ State-gov', 'JobType_ Without-pay', 'EdType_ 11th', 'EdType_ 12th', 'EdType_ 1st-4th', 'EdType_ 5th-6th', 'EdType_ 7th-8th', 'EdType_ 9th', 'EdType_ Assoc-acdm', 'EdType_ Assoc-voc', 'EdType_ Bachelors', 'EdType_ Doctorate', 'EdType_ HS-grad', 'EdType_ Masters', 'EdType_ Preschool', 'EdType_ Prof-school', 'EdType_ Some-college', 'maritalstatus_ Married-AF-spouse', 'maritalstatus_ Married-civ-spouse', 'maritalstatus_ Married-spouse-absent', 'maritalstatus_ Never-married', 'maritalstatus_ Separated', 'maritalstatus_ Widowed', 'occupation_ Adm-clerical', 'occupation_ Armed-Forces', 'occupation_ Craft-repair', 'occupation_ Exec-managerial', 'occupation_ Farming-fishing', 'occupation_ Handlers-cleaners', 'occupation_ Machine-op-inspct', 'occupation_ Other-service', 'occupation_ Priv-house-serv', 'occupation_ Prof-specialty', 'occupation_ Protective-serv', 'occupation_ Sales', 'occupation_ Tech-support', 'occupation_ Transport-moving', 'relationship_ Not-in-family', 'relationship_ Other-relative', 'relationship_ Own-child', 'relationship_ Unmarried', 'relationship_ Wife', 'race_ Asian-Pac-Islander', 'race_ Black', 'race_ Other', 'race_ White', 'gender_ Male', 'nativecountry_ Canada', 'nativecountry_ China', 'nativecountry_ Columbia', 'nativecountry_ Cuba', 'nativecountry_ Dominican-Republic', 'nativecountry_ Ecuador', 'nativecountry_ El-Salvador', 'nativecountry_ England', 'nativecountry_ France', 'nativecountry_ Germany', 'nativecountry_ Greece', 'nativecountry_ Guatemala', 'nativecountry_ Haiti', 'nativecountry_ Holand-Netherlands', 'nativecountry_ Honduras', 'nativecountry_ Hong', 'nativecountry_ Hungary', 'nativecountry_ India', 'nativecountry_ Iran', 'nativecountry_ Ireland', 'nativecountry_ Italy', 'nativecountry_ Jamaica', 'nativecountry_ Japan', 'nativecountry_ Laos', 'nativecountry_ Mexico', 'nativecountry_ Nicaragua', 'nativecountry_ Outlying-US(Guam-USVI-etc)', 'nativecountry_ Peru', 'nativecountry_ Philippines', 'nativecountry_ Poland', 'nativecountry_ Portugal', 'nativecountry_ Puerto-Rico', 'nativecountry_ Scotland', 'nativecountry_ South', 'nativecountry_ Taiwan', 'nativecountry_ Thailand', 'nativecountry_ Trinadad&Tobago', 'nativecountry_ United-States', 'nativecountry_ Vietnam', 'nativecountry_ Yugoslavia']\n",
      "['JobType_ Federal-gov', 'nativecountry_ United-States', 'race_ Asian-Pac-Islander', 'nativecountry_ Peru', 'nativecountry_ South', 'nativecountry_ El-Salvador', 'occupation_ Prof-specialty', 'EdType_ 1st-4th', 'EdType_ 11th', 'nativecountry_ Scotland', 'nativecountry_ England', 'nativecountry_ China', 'nativecountry_ Dominican-Republic', 'occupation_ Other-service', 'capitalloss', 'nativecountry_ Haiti', 'nativecountry_ Outlying-US(Guam-USVI-etc)', 'EdType_ 9th', 'race_ Other', 'maritalstatus_ Married-AF-spouse', 'nativecountry_ Puerto-Rico', 'nativecountry_ Columbia', 'race_ Black', 'occupation_ Farming-fishing', 'occupation_ Exec-managerial', 'nativecountry_ Germany', 'occupation_ Machine-op-inspct', 'capitalgain', 'relationship_ Own-child', 'nativecountry_ Jamaica', 'nativecountry_ Hong', 'nativecountry_ India', 'EdType_ 7th-8th', 'nativecountry_ Thailand', 'nativecountry_ Canada', 'nativecountry_ France', 'nativecountry_ Cuba', 'gender_ Male', 'EdType_ Assoc-voc', 'nativecountry_ Poland', 'EdType_ Masters', 'nativecountry_ Nicaragua', 'occupation_ Tech-support', 'nativecountry_ Laos', 'EdType_ Some-college', 'occupation_ Handlers-cleaners', 'nativecountry_ Trinadad&Tobago', 'nativecountry_ Portugal', 'JobType_ Self-emp-not-inc', 'relationship_ Not-in-family', 'nativecountry_ Iran', 'nativecountry_ Ecuador', 'occupation_ Sales', 'maritalstatus_ Married-civ-spouse', 'relationship_ Unmarried', 'EdType_ Doctorate', 'relationship_ Wife', 'occupation_ Armed-Forces', 'occupation_ Protective-serv', 'occupation_ Priv-house-serv', 'JobType_ State-gov', 'EdType_ HS-grad', 'nativecountry_ Holand-Netherlands', 'EdType_ Bachelors', 'JobType_ Local-gov', 'JobType_ Private', 'JobType_ Never-worked', 'nativecountry_ Honduras', 'age', 'maritalstatus_ Married-spouse-absent', 'maritalstatus_ Separated', 'EdType_ Preschool', 'nativecountry_ Guatemala', 'relationship_ Other-relative', 'nativecountry_ Greece', 'EdType_ Prof-school', 'EdType_ 5th-6th', 'maritalstatus_ Widowed', 'race_ White', 'occupation_ Craft-repair', 'nativecountry_ Philippines', 'EdType_ Assoc-acdm', 'maritalstatus_ Never-married', 'nativecountry_ Hungary', 'EdType_ 12th', 'nativecountry_ Yugoslavia', 'nativecountry_ Japan', 'nativecountry_ Italy', 'JobType_ Self-emp-inc', 'occupation_ Adm-clerical', 'nativecountry_ Ireland', 'nativecountry_ Mexico', 'hoursperweek', 'JobType_ Without-pay', 'occupation_ Transport-moving', 'nativecountry_ Vietnam', 'nativecountry_ Taiwan']\n",
      "[0 0 1 ... 0 0 0]\n"
     ]
    }
   ],
   "source": [
    "data2['SalStat'] = data2['SalStat'].map({\" less than or equal to 50,000\":0,\" greater than 50,000\":1})\n",
    "print(data2['SalStat'])\n",
    "new_data = pd.get_dummies(data2, drop_first=True)\n",
    "\n",
    "columns_list = list(new_data.columns)\n",
    "print(columns_list)\n",
    "\n",
    "#separating input from data\n",
    "features = list(set(columns_list) - set(['SalStat']))\n",
    "print(features)\n",
    "\n",
    "#storing op value in y\n",
    "y= new_data['SalStat'].values\n",
    "print(y)\n"
   ]
  },
  {
   "cell_type": "code",
   "execution_count": 88,
   "metadata": {},
   "outputs": [
    {
     "name": "stdout",
     "output_type": "stream",
     "text": [
      "[[0 1 0 ... 0 0 0]\n",
      " [1 1 0 ... 0 0 0]\n",
      " [0 1 0 ... 0 0 0]\n",
      " ...\n",
      " [0 1 0 ... 0 0 0]\n",
      " [0 1 0 ... 0 0 0]\n",
      " [0 1 0 ... 0 0 0]]\n",
      "(31978, 97)\n"
     ]
    }
   ],
   "source": [
    "x = new_data[features].values\n",
    "print(x)\n",
    "print(np.array(x).shape)"
   ]
  },
  {
   "cell_type": "code",
   "execution_count": 89,
   "metadata": {},
   "outputs": [],
   "source": [
    "train_x,test_x,train_y,test_y = train_test_split(x,y,test_size = 0.3,random_state= 0)\n"
   ]
  },
  {
   "cell_type": "code",
   "execution_count": 90,
   "metadata": {},
   "outputs": [
    {
     "name": "stdout",
     "output_type": "stream",
     "text": [
      "[0 0 0 ... 0 0 0]\n"
     ]
    },
    {
     "name": "stderr",
     "output_type": "stream",
     "text": [
      "c:\\Users\\soura\\AppData\\Local\\Programs\\Python\\Python38-32\\lib\\site-packages\\sklearn\\linear_model\\_logistic.py:814: ConvergenceWarning: lbfgs failed to converge (status=1):\n",
      "STOP: TOTAL NO. of ITERATIONS REACHED LIMIT.\n",
      "\n",
      "Increase the number of iterations (max_iter) or scale the data as shown in:\n",
      "    https://scikit-learn.org/stable/modules/preprocessing.html\n",
      "Please also refer to the documentation for alternative solver options:\n",
      "    https://scikit-learn.org/stable/modules/linear_model.html#logistic-regression\n",
      "  n_iter_i = _check_optimize_result(\n"
     ]
    }
   ],
   "source": [
    "#instance of model\n",
    "logistic = LogisticRegression()\n",
    "logistic.fit(train_x,train_y)\n",
    "\n",
    "\n",
    "prediction = logistic.predict(test_x)\n",
    "print(prediction)"
   ]
  },
  {
   "cell_type": "code",
   "execution_count": 91,
   "metadata": {},
   "outputs": [
    {
     "name": "stdout",
     "output_type": "stream",
     "text": [
      "[[6828  508]\n",
      " [ 932 1326]]\n"
     ]
    }
   ],
   "source": [
    "confusion_matrix1 = confusion_matrix(test_y,prediction)\n",
    "print(confusion_matrix1)"
   ]
  },
  {
   "cell_type": "code",
   "execution_count": 92,
   "metadata": {},
   "outputs": [
    {
     "name": "stdout",
     "output_type": "stream",
     "text": [
      "0.849906191369606\n",
      "Misclassified values :  1440\n"
     ]
    }
   ],
   "source": [
    "#calculating accuracy\n",
    "accuracy_score1 = accuracy_score(test_y,prediction)\n",
    "print(accuracy_score1)\n",
    "\n",
    "print(\"Misclassified values : \", (test_y != prediction).sum())"
   ]
  },
  {
   "attachments": {},
   "cell_type": "markdown",
   "metadata": {},
   "source": [
    "Removing all insignificant values"
   ]
  },
  {
   "cell_type": "code",
   "execution_count": 93,
   "metadata": {},
   "outputs": [
    {
     "name": "stdout",
     "output_type": "stream",
     "text": [
      "['age', 'capitalgain', 'capitalloss', 'hoursperweek', 'SalStat', 'EdType_ 11th', 'EdType_ 12th', 'EdType_ 1st-4th', 'EdType_ 5th-6th', 'EdType_ 7th-8th', 'EdType_ 9th', 'EdType_ Assoc-acdm', 'EdType_ Assoc-voc', 'EdType_ Bachelors', 'EdType_ Doctorate', 'EdType_ HS-grad', 'EdType_ Masters', 'EdType_ Preschool', 'EdType_ Prof-school', 'EdType_ Some-college', 'maritalstatus_ Married-AF-spouse', 'maritalstatus_ Married-civ-spouse', 'maritalstatus_ Married-spouse-absent', 'maritalstatus_ Never-married', 'maritalstatus_ Separated', 'maritalstatus_ Widowed', 'occupation_ Adm-clerical', 'occupation_ Armed-Forces', 'occupation_ Craft-repair', 'occupation_ Exec-managerial', 'occupation_ Farming-fishing', 'occupation_ Handlers-cleaners', 'occupation_ Machine-op-inspct', 'occupation_ Other-service', 'occupation_ Priv-house-serv', 'occupation_ Prof-specialty', 'occupation_ Protective-serv', 'occupation_ Sales', 'occupation_ Tech-support', 'occupation_ Transport-moving', 'relationship_ Not-in-family', 'relationship_ Other-relative', 'relationship_ Own-child', 'relationship_ Unmarried', 'relationship_ Wife']\n",
      "['occupation_ Tech-support', 'EdType_ Some-college', 'occupation_ Handlers-cleaners', 'occupation_ Prof-specialty', 'relationship_ Not-in-family', 'EdType_ 1st-4th', 'occupation_ Sales', 'maritalstatus_ Married-civ-spouse', 'EdType_ 11th', 'EdType_ Doctorate', 'relationship_ Unmarried', 'occupation_ Other-service', 'relationship_ Wife', 'occupation_ Armed-Forces', 'capitalloss', 'occupation_ Protective-serv', 'occupation_ Priv-house-serv', 'EdType_ 9th', 'EdType_ HS-grad', 'maritalstatus_ Married-AF-spouse', 'EdType_ Bachelors', 'age', 'maritalstatus_ Married-spouse-absent', 'maritalstatus_ Separated', 'EdType_ Preschool', 'relationship_ Other-relative', 'EdType_ Prof-school', 'EdType_ 5th-6th', 'maritalstatus_ Widowed', 'occupation_ Farming-fishing', 'occupation_ Craft-repair', 'EdType_ Assoc-acdm', 'maritalstatus_ Never-married', 'EdType_ 12th', 'occupation_ Exec-managerial', 'capitalgain', 'occupation_ Machine-op-inspct', 'relationship_ Own-child', 'occupation_ Adm-clerical', 'hoursperweek', 'EdType_ 7th-8th', 'occupation_ Transport-moving', 'EdType_ Assoc-voc', 'EdType_ Masters']\n",
      "[0 0 0 ... 0 0 0]\n",
      "0.8470919324577861\n",
      "Misclassified values :  1467\n"
     ]
    },
    {
     "name": "stderr",
     "output_type": "stream",
     "text": [
      "c:\\Users\\soura\\AppData\\Local\\Programs\\Python\\Python38-32\\lib\\site-packages\\sklearn\\linear_model\\_logistic.py:814: ConvergenceWarning: lbfgs failed to converge (status=1):\n",
      "STOP: TOTAL NO. of ITERATIONS REACHED LIMIT.\n",
      "\n",
      "Increase the number of iterations (max_iter) or scale the data as shown in:\n",
      "    https://scikit-learn.org/stable/modules/preprocessing.html\n",
      "Please also refer to the documentation for alternative solver options:\n",
      "    https://scikit-learn.org/stable/modules/linear_model.html#logistic-regression\n",
      "  n_iter_i = _check_optimize_result(\n"
     ]
    }
   ],
   "source": [
    "data2 = data.dropna(axis=0)\n",
    "data2['SalStat'] = data2['SalStat'].map({\" less than or equal to 50,000\":0,\" greater than 50,000\":1})\n",
    "cols = ['gender','race','nativecountry','JobType']\n",
    "\n",
    "new_data = data2.drop(cols,axis=1)\n",
    "new_data = pd.get_dummies(new_data,drop_first=True)\n",
    "\n",
    "columns_list = list(new_data.columns)\n",
    "print(columns_list)\n",
    "\n",
    "#separating input from data\n",
    "features = list(set(columns_list) - set(['SalStat']))\n",
    "print(features)\n",
    "\n",
    "#storing op value in y\n",
    "y= new_data['SalStat'].values\n",
    "x = new_data[features].values\n",
    "train_x,test_x,train_y,test_y = train_test_split(x,y,test_size = 0.3,random_state= 0)\n",
    "\n",
    "logistic = LogisticRegression()\n",
    "logistic.fit(train_x,train_y)\n",
    "\n",
    "\n",
    "prediction2 = logistic.predict(test_x)\n",
    "print(prediction2)\n",
    "\n",
    "#calculating accuracy\n",
    "accuracy_score2 = accuracy_score(test_y,prediction2)\n",
    "print(accuracy_score2)\n",
    "\n",
    "print(\"Misclassified values : \", (test_y != prediction2).sum())"
   ]
  }
 ],
 "metadata": {
  "kernelspec": {
   "display_name": "Python 3",
   "language": "python",
   "name": "python3"
  },
  "language_info": {
   "codemirror_mode": {
    "name": "ipython",
    "version": 3
   },
   "file_extension": ".py",
   "mimetype": "text/x-python",
   "name": "python",
   "nbconvert_exporter": "python",
   "pygments_lexer": "ipython3",
   "version": "3.8.10"
  },
  "orig_nbformat": 4,
  "vscode": {
   "interpreter": {
    "hash": "4ba5114de4d5e1169d22e8372239569db7c3030194ef7fde65eaf209d6be0504"
   }
  }
 },
 "nbformat": 4,
 "nbformat_minor": 2
}
